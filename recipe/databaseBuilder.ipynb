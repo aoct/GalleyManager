{
 "cells": [
  {
   "cell_type": "code",
   "execution_count": 1,
   "metadata": {},
   "outputs": [],
   "source": [
    "import requests\n",
    "import re"
   ]
  },
  {
   "cell_type": "code",
   "execution_count": 111,
   "metadata": {},
   "outputs": [],
   "source": [
    "accepted_units = ['small', 'medium', 'big', 'medium-size',\n",
    "                  'g', 'pound', 'pounds', \n",
    "                  'ounce', 'ounces', 'l', 'ml',\n",
    "                  'jar', 'cup', 'cups', 'can',\n",
    "                  'spoon', 'tablespoon',\n",
    "                  'pinch', 'handful',\n",
    "                  'cloves'\n",
    "                 ]"
   ]
  },
  {
   "cell_type": "code",
   "execution_count": 112,
   "metadata": {},
   "outputs": [],
   "source": [
    "top_source = 'https://www.cookingchanneltv.com/recipes/a-z/p/p/3'\n",
    "source_letter = 'P'"
   ]
  },
  {
   "cell_type": "code",
   "execution_count": 3,
   "metadata": {},
   "outputs": [],
   "source": [
    "r = requests.get(top_source)"
   ]
  },
  {
   "cell_type": "code",
   "execution_count": 4,
   "metadata": {
    "scrolled": true
   },
   "outputs": [],
   "source": [
    "# r.content"
   ]
  },
  {
   "cell_type": "code",
   "execution_count": 5,
   "metadata": {},
   "outputs": [],
   "source": [
    "content = str(r.content)"
   ]
  },
  {
   "cell_type": "code",
   "execution_count": 6,
   "metadata": {},
   "outputs": [],
   "source": [
    "idx_start = content.find('<span class=\"o-Capsule__a-HeadlineText\">'+source_letter+'</span>')\n",
    "content = content[idx_start:]\n",
    "idx_stop = content.find('<section class=\"o-Pagination \">')\n",
    "content = content[:idx_stop]"
   ]
  },
  {
   "cell_type": "code",
   "execution_count": 7,
   "metadata": {},
   "outputs": [],
   "source": [
    "recepies_url_list = []\n",
    "for ln in content.split('href')[1:]:\n",
    "    idx_end = ln.find('\">')\n",
    "    url = 'https:' + ln[2:idx_end]\n",
    "    recepies_url_list.append(url)"
   ]
  },
  {
   "cell_type": "code",
   "execution_count": 8,
   "metadata": {},
   "outputs": [
    {
     "name": "stdout",
     "output_type": "stream",
     "text": [
      "https://www.cookingchanneltv.com/recipes/debi-mazar-and-gabriele-corcos/pasta-alla-gricia-2105351\n"
     ]
    }
   ],
   "source": [
    "url = recepies_url_list[3]\n",
    "print(url)\n",
    "content = str(requests.get(url).content)"
   ]
  },
  {
   "cell_type": "code",
   "execution_count": 15,
   "metadata": {},
   "outputs": [],
   "source": [
    "def getName(content):\n",
    "    template = '<span class=\"o-AssetTitle__a-HeadlineText\">'\n",
    "    idx_start = content.find(template) + len(template)\n",
    "    s = content[idx_start:idx_start+100]\n",
    "    idx_stop = s.find('</span>')\n",
    "    title = s[:idx_stop]\n",
    "    if ':' in title:\n",
    "        title = title[:title.find(':')]\n",
    "    print('\\t'+title)"
   ]
  },
  {
   "cell_type": "code",
   "execution_count": 16,
   "metadata": {},
   "outputs": [],
   "source": [
    "def getLevel(content):\n",
    "    template = '<span class=\"o-RecipeInfo__a-Headline\">Level:</span>'\n",
    "    idx_start = content.find(template) + len(template)\n",
    "    s = content[idx_start:idx_start+100]\n",
    "    out = re.search(r'\">[A-Za-z]+</span', s)\n",
    "    level = out.group(0)[2:-6]\n",
    "    print('\\t'+level)"
   ]
  },
  {
   "cell_type": "code",
   "execution_count": 17,
   "metadata": {},
   "outputs": [],
   "source": [
    "def getNumberPeople(content):\n",
    "    template = '<span class=\"o-RecipeInfo__a-Headline\">Yield:</span>'\n",
    "    idx_start = content.find(template) + len(template)\n",
    "    s = content[idx_start:idx_start+100]\n",
    "    out = re.search(r'\">[0-9]+', s)\n",
    "    Nppl = out.group(0)[2:]\n",
    "    print('\\t'+Nppl)"
   ]
  },
  {
   "cell_type": "code",
   "execution_count": 117,
   "metadata": {},
   "outputs": [],
   "source": [
    "def getIngredients(content):\n",
    "    template = '<p class=\"o-Ingredients__a-Ingredient\">'\n",
    "    idx_start = content.find(template) + len(template)\n",
    "    s = content[idx_start:]\n",
    "    # print(s)\n",
    "    cut_template = '<h6 class=\"o-Ingredients__a-SubHeadline\">'\n",
    "    if cut_template in s:\n",
    "        idx_stop = s.find(cut_template)\n",
    "        s = s[:idx_stop]\n",
    "    slist = s.split(template)\n",
    "    # print(slist)\n",
    "    for l in slist:\n",
    "        i = l.find('</p>')\n",
    "        aux = l[:i]\n",
    "#         print(aux)\n",
    "        if ',' in aux:\n",
    "            aux = aux[:aux.find(',')]\n",
    "        if '(' in aux:\n",
    "            aux = aux[:aux.find('(')-1] + aux[aux.find(')')+1:]\n",
    "        if '/' in aux:\n",
    "            aux = aux[aux.find('/')+1:]\n",
    "        if aux[-8:] == '\\\\xc2\\\\xa0':\n",
    "            aux = aux[:-8]\n",
    "\n",
    "        l_aux = aux.split(' ')        \n",
    "        if len(l_aux)==2 and l_aux[0].isnumeric():\n",
    "            name = l_aux[1].capitalize()\n",
    "            amount = l_aux[0]\n",
    "            units = ''\n",
    "        elif len(l_aux) > 2 and (l_aux[1] in accepted_units):\n",
    "            name = ' '.join(l_aux[2:])\n",
    "            name.capitalize()\n",
    "            amount = l_aux[0]\n",
    "            units = l_aux[1]\n",
    "        elif len(l_aux) > 1 and not l_aux[0].isnumeric() and not (l_aux[1] in accepted_units):\n",
    "            name = ' '.join(l_aux)\n",
    "            name.capitalize()\n",
    "            amount = ''\n",
    "            units = ''\n",
    "        elif len(l_aux) > 2 and l_aux[0].isnumeric() and not (l_aux[1] in accepted_units):\n",
    "            name = ' '.join(l_aux[1:])\n",
    "            name.capitalize()\n",
    "            amount = l_aux[0]\n",
    "            units = ''\n",
    "        elif len(l_aux) == 1:\n",
    "            name = l_aux[0]\n",
    "            amount = ''\n",
    "            units = ''\n",
    "        else:\n",
    "            print(l_aux)\n",
    "            name = 'NaN'\n",
    "            amount = 'NaN'\n",
    "            units = 'NaN'\n",
    "        \n",
    "        out = '\\t\\t'+ name + '-->'\n",
    "        out += 'Amount: '+ amount + '(' + units + ')'\n",
    "        print(out)# + '\\t\\t~~  '+l[:i])\n",
    "    \n",
    "#     print('\\n\\n\\n')"
   ]
  },
  {
   "cell_type": "code",
   "execution_count": 118,
   "metadata": {
    "scrolled": true
   },
   "outputs": [],
   "source": [
    "# content"
   ]
  },
  {
   "cell_type": "code",
   "execution_count": 120,
   "metadata": {
    "scrolled": false
   },
   "outputs": [
    {
     "name": "stdout",
     "output_type": "stream",
     "text": [
      "https://www.cookingchanneltv.com/recipes/david-rocco/pasta-anto-te-1961156\n",
      "\tPasta Anto-Te\n",
      "\tEasy\n",
      "\t4\n",
      "\t\tG-->Amount: 228()\n",
      "\t\tcup/117 ml milk-->Amount: 2()\n",
      "\t\tunsalted butter-->Amount: 14(g)\n",
      "\t\tfresh tagliolini pasta-->Amount: 362(g)\n",
      "\t\textra-virgin olive oil-->Amount: 59(ml)\n",
      "\t\trosewater-->Amount: 44(ml)\n",
      "\t\tcup/114 g pistachios-->Amount: 2()\n",
      "\t\tounces/100 g fresh sheep\\'s milk ricotta cheese-->Amount: 2()\n",
      "\t\tSprinkle saffron-->Amount: ()\n",
      "\t\tSalt-->Amount: ()\n",
      "\t\tBunch fresh flat-leaf parsley-->Amount: ()\n",
      "\n",
      "https://www.cookingchanneltv.com/recipes/tyler-florence/pasta-dough-for-ravioli-1943504\n",
      "\tPasta Dough for Ravioli\n",
      "\tIntermediate\n"
     ]
    },
    {
     "ename": "AttributeError",
     "evalue": "'NoneType' object has no attribute 'group'",
     "output_type": "error",
     "traceback": [
      "\u001b[0;31m---------------------------------------------------------------------------\u001b[0m",
      "\u001b[0;31mAttributeError\u001b[0m                            Traceback (most recent call last)",
      "\u001b[0;32m<ipython-input-120-66efa33937e0>\u001b[0m in \u001b[0;36m<module>\u001b[0;34m\u001b[0m\n\u001b[1;32m      4\u001b[0m     \u001b[0mgetName\u001b[0m\u001b[0;34m(\u001b[0m\u001b[0mcontent\u001b[0m\u001b[0;34m)\u001b[0m\u001b[0;34m\u001b[0m\u001b[0;34m\u001b[0m\u001b[0m\n\u001b[1;32m      5\u001b[0m     \u001b[0mgetLevel\u001b[0m\u001b[0;34m(\u001b[0m\u001b[0mcontent\u001b[0m\u001b[0;34m)\u001b[0m\u001b[0;34m\u001b[0m\u001b[0;34m\u001b[0m\u001b[0m\n\u001b[0;32m----> 6\u001b[0;31m     \u001b[0mgetNumberPeople\u001b[0m\u001b[0;34m(\u001b[0m\u001b[0mcontent\u001b[0m\u001b[0;34m)\u001b[0m\u001b[0;34m\u001b[0m\u001b[0;34m\u001b[0m\u001b[0m\n\u001b[0m\u001b[1;32m      7\u001b[0m     \u001b[0mgetIngredients\u001b[0m\u001b[0;34m(\u001b[0m\u001b[0mcontent\u001b[0m\u001b[0;34m)\u001b[0m\u001b[0;34m\u001b[0m\u001b[0;34m\u001b[0m\u001b[0m\n\u001b[1;32m      8\u001b[0m     \u001b[0mprint\u001b[0m\u001b[0;34m(\u001b[0m\u001b[0;34m)\u001b[0m\u001b[0;34m\u001b[0m\u001b[0;34m\u001b[0m\u001b[0m\n",
      "\u001b[0;32m<ipython-input-17-c14acacd5484>\u001b[0m in \u001b[0;36mgetNumberPeople\u001b[0;34m(content)\u001b[0m\n\u001b[1;32m      4\u001b[0m     \u001b[0ms\u001b[0m \u001b[0;34m=\u001b[0m \u001b[0mcontent\u001b[0m\u001b[0;34m[\u001b[0m\u001b[0midx_start\u001b[0m\u001b[0;34m:\u001b[0m\u001b[0midx_start\u001b[0m\u001b[0;34m+\u001b[0m\u001b[0;36m100\u001b[0m\u001b[0;34m]\u001b[0m\u001b[0;34m\u001b[0m\u001b[0;34m\u001b[0m\u001b[0m\n\u001b[1;32m      5\u001b[0m     \u001b[0mout\u001b[0m \u001b[0;34m=\u001b[0m \u001b[0mre\u001b[0m\u001b[0;34m.\u001b[0m\u001b[0msearch\u001b[0m\u001b[0;34m(\u001b[0m\u001b[0;34mr'\">[0-9]+'\u001b[0m\u001b[0;34m,\u001b[0m \u001b[0ms\u001b[0m\u001b[0;34m)\u001b[0m\u001b[0;34m\u001b[0m\u001b[0;34m\u001b[0m\u001b[0m\n\u001b[0;32m----> 6\u001b[0;31m     \u001b[0mNppl\u001b[0m \u001b[0;34m=\u001b[0m \u001b[0mout\u001b[0m\u001b[0;34m.\u001b[0m\u001b[0mgroup\u001b[0m\u001b[0;34m(\u001b[0m\u001b[0;36m0\u001b[0m\u001b[0;34m)\u001b[0m\u001b[0;34m[\u001b[0m\u001b[0;36m2\u001b[0m\u001b[0;34m:\u001b[0m\u001b[0;34m]\u001b[0m\u001b[0;34m\u001b[0m\u001b[0;34m\u001b[0m\u001b[0m\n\u001b[0m\u001b[1;32m      7\u001b[0m     \u001b[0mprint\u001b[0m\u001b[0;34m(\u001b[0m\u001b[0;34m'\\t'\u001b[0m\u001b[0;34m+\u001b[0m\u001b[0mNppl\u001b[0m\u001b[0;34m)\u001b[0m\u001b[0;34m\u001b[0m\u001b[0;34m\u001b[0m\u001b[0m\n",
      "\u001b[0;31mAttributeError\u001b[0m: 'NoneType' object has no attribute 'group'"
     ]
    }
   ],
   "source": [
    "for url in recepies_url_list[5:10]:\n",
    "    print(url)\n",
    "    content = str(requests.get(url).content)\n",
    "    getName(content)\n",
    "    getLevel(content)\n",
    "    getNumberPeople(content)\n",
    "    getIngredients(content)\n",
    "    print()"
   ]
  },
  {
   "cell_type": "code",
   "execution_count": null,
   "metadata": {},
   "outputs": [],
   "source": []
  }
 ],
 "metadata": {
  "kernelspec": {
   "display_name": "Python 3",
   "language": "python",
   "name": "python3"
  },
  "language_info": {
   "codemirror_mode": {
    "name": "ipython",
    "version": 3
   },
   "file_extension": ".py",
   "mimetype": "text/x-python",
   "name": "python",
   "nbconvert_exporter": "python",
   "pygments_lexer": "ipython3",
   "version": "3.7.3"
  }
 },
 "nbformat": 4,
 "nbformat_minor": 2
}
